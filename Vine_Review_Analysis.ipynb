{
  "nbformat": 4,
  "nbformat_minor": 0,
  "metadata": {
    "colab": {
      "name": "Vine_Review_Analysis.ipynb",
      "provenance": [],
      "collapsed_sections": []
    },
    "kernelspec": {
      "name": "python3",
      "display_name": "Python 3"
    },
    "nteract": {
      "version": "0.12.3"
    },
    "language_info": {
      "name": "python"
    }
  },
  "cells": [
    {
      "cell_type": "code",
      "metadata": {
        "id": "V58rxea0HqSa",
        "colab": {
          "base_uri": "https://localhost:8080/"
        },
        "outputId": "bc37074f-7258-44a3-a088-39c545917541"
      },
      "source": [
        "# Install Spark\n",
        "import os\n",
        "# Find the latest version of spark 3.0 from http://www.apache.org/dist/spark/ and enter as the spark version\n",
        "# For example:\n",
        "# spark_version = 'spark-3.0.3'\n",
        "spark_version = 'spark-3.1.2'\n",
        "os.environ['SPARK_VERSION']=spark_version\n",
        "\n",
        "# Install Spark and Java\n",
        "!apt-get update\n",
        "!apt-get install openjdk-11-jdk-headless -qq > /dev/null\n",
        "!wget -q http://www.apache.org/dist/spark/$SPARK_VERSION/$SPARK_VERSION-bin-hadoop2.7.tgz\n",
        "!tar xf $SPARK_VERSION-bin-hadoop2.7.tgz\n",
        "!pip install -q findspark\n",
        "\n",
        "# Set Environment Variables\n",
        "import os\n",
        "os.environ[\"JAVA_HOME\"] = \"/usr/lib/jvm/java-11-openjdk-amd64\"\n",
        "os.environ[\"SPARK_HOME\"] = f\"/content/{spark_version}-bin-hadoop2.7\"\n",
        "\n",
        "# Start a SparkSession\n",
        "import findspark\n",
        "findspark.init()"
      ],
      "execution_count": 3,
      "outputs": [
        {
          "output_type": "stream",
          "name": "stdout",
          "text": [
            "\r0% [Working]\r            \rIgn:1 https://developer.download.nvidia.com/compute/cuda/repos/ubuntu1804/x86_64  InRelease\n",
            "\r0% [Connecting to archive.ubuntu.com] [Connecting to security.ubuntu.com] [Conn\r                                                                               \rIgn:2 https://developer.download.nvidia.com/compute/machine-learning/repos/ubuntu1804/x86_64  InRelease\n",
            "\r0% [Connecting to archive.ubuntu.com] [Connecting to security.ubuntu.com] [Conn\r                                                                               \rHit:3 https://developer.download.nvidia.com/compute/cuda/repos/ubuntu1804/x86_64  Release\n",
            "\r0% [Connecting to archive.ubuntu.com] [Connecting to security.ubuntu.com] [Conn\r0% [Release.gpg gpgv 696 B] [Connecting to archive.ubuntu.com] [Connecting to s\r                                                                               \rHit:4 https://developer.download.nvidia.com/compute/machine-learning/repos/ubuntu1804/x86_64  Release\n",
            "Hit:5 https://cloud.r-project.org/bin/linux/ubuntu bionic-cran40/ InRelease\n",
            "Hit:7 http://security.ubuntu.com/ubuntu bionic-security InRelease\n",
            "Hit:8 http://ppa.launchpad.net/c2d4u.team/c2d4u4.0+/ubuntu bionic InRelease\n",
            "Hit:9 http://archive.ubuntu.com/ubuntu bionic InRelease\n",
            "Hit:11 http://archive.ubuntu.com/ubuntu bionic-updates InRelease\n",
            "Hit:12 http://ppa.launchpad.net/cran/libgit2/ubuntu bionic InRelease\n",
            "Hit:13 http://archive.ubuntu.com/ubuntu bionic-backports InRelease\n",
            "Hit:14 http://ppa.launchpad.net/deadsnakes/ppa/ubuntu bionic InRelease\n",
            "Hit:15 http://ppa.launchpad.net/graphics-drivers/ppa/ubuntu bionic InRelease\n",
            "Reading package lists... Done\n"
          ]
        }
      ]
    },
    {
      "cell_type": "code",
      "metadata": {
        "id": "_xKwTpATHqSe",
        "colab": {
          "base_uri": "https://localhost:8080/"
        },
        "outputId": "df468ae1-62b1-46d5-e902-87b64065e4ce"
      },
      "source": [
        "# Download the Postgres driver that will allow Spark to interact with Postgres.\n",
        "!wget https://jdbc.postgresql.org/download/postgresql-42.2.16.jar"
      ],
      "execution_count": 4,
      "outputs": [
        {
          "output_type": "stream",
          "name": "stdout",
          "text": [
            "--2021-12-16 02:29:52--  https://jdbc.postgresql.org/download/postgresql-42.2.16.jar\n",
            "Resolving jdbc.postgresql.org (jdbc.postgresql.org)... 72.32.157.228, 2001:4800:3e1:1::228\n",
            "Connecting to jdbc.postgresql.org (jdbc.postgresql.org)|72.32.157.228|:443... connected.\n",
            "HTTP request sent, awaiting response... 200 OK\n",
            "Length: 1002883 (979K) [application/java-archive]\n",
            "Saving to: ‘postgresql-42.2.16.jar’\n",
            "\n",
            "postgresql-42.2.16. 100%[===================>] 979.38K  6.01MB/s    in 0.2s    \n",
            "\n",
            "2021-12-16 02:29:53 (6.01 MB/s) - ‘postgresql-42.2.16.jar’ saved [1002883/1002883]\n",
            "\n"
          ]
        }
      ]
    },
    {
      "cell_type": "code",
      "metadata": {
        "id": "MMqDAjVS0KN9"
      },
      "source": [
        "from pyspark.sql import SparkSession\n",
        "spark = SparkSession.builder.appName(\"M16-Amazon-Challenge\").config(\"spark.driver.extraClassPath\",\"/content/postgresql-42.2.16.jar\").getOrCreate()"
      ],
      "execution_count": 5,
      "outputs": []
    },
    {
      "cell_type": "code",
      "source": [
        "# Store environmental variable\n",
        "from getpass import getpass\n",
        "password = getpass('Enter PW')\n",
        "# Configure settings for RDS\n",
        "mode = \"append\"\n",
        "jdbc_url=\"jdbc:postgresql://challenge-game-reviews.ctg85syqs9uc.us-east-1.rds.amazonaws.com:5432/amazon_vine_analysis\"\n",
        "config = {\"user\":\"postgres\", \n",
        "          \"password\": password, \n",
        "          \"driver\":\"org.postgresql.Driver\"}"
      ],
      "metadata": {
        "colab": {
          "base_uri": "https://localhost:8080/"
        },
        "id": "QDhgVhjFE2_4",
        "outputId": "9586ba00-3574-4e95-8334-71a52b90b1bf"
      },
      "execution_count": 6,
      "outputs": [
        {
          "name": "stdout",
          "output_type": "stream",
          "text": [
            "Enter PW··········\n"
          ]
        }
      ]
    },
    {
      "cell_type": "code",
      "source": [
        "# Read in vine_table from RDS instance\n",
        "vine_df = spark.read.jdbc(url=jdbc_url, table='vine_table', properties=config)\n",
        "vine_df.show()"
      ],
      "metadata": {
        "colab": {
          "base_uri": "https://localhost:8080/"
        },
        "id": "_Rip0w4TE7Y_",
        "outputId": "cd93a96d-7df1-428d-b939-24d677bf42bb"
      },
      "execution_count": 7,
      "outputs": [
        {
          "output_type": "stream",
          "name": "stdout",
          "text": [
            "+--------------+-----------+-------------+-----------+----+-----------------+\n",
            "|     review_id|star_rating|helpful_votes|total_votes|vine|verified_purchase|\n",
            "+--------------+-----------+-------------+-----------+----+-----------------+\n",
            "| RTIS3L2M1F5SM|          5|            0|          0|   N|                Y|\n",
            "| R1ZV7R40OLHKD|          5|            0|          0|   N|                Y|\n",
            "|R3BH071QLH8QMC|          1|            0|          1|   N|                Y|\n",
            "|R127K9NTSXA2YH|          3|            0|          0|   N|                Y|\n",
            "|R32ZWUXDJPW27Q|          4|            0|          0|   N|                Y|\n",
            "|R3AQQ4YUKJWBA6|          1|            0|          0|   N|                Y|\n",
            "|R2F0POU5K6F73F|          5|            0|          0|   N|                Y|\n",
            "|R3VNR804HYSMR6|          5|            0|          0|   N|                Y|\n",
            "| R3GZTM72WA2QH|          5|            0|          0|   N|                Y|\n",
            "| RNQOY62705W1K|          4|            0|          0|   N|                Y|\n",
            "|R1VTIA3JTYBY02|          5|            0|          0|   N|                N|\n",
            "|R29DOU8791QZL8|          1|            0|          0|   N|                Y|\n",
            "|R15DUT1VIJ9RJZ|          2|            0|          0|   N|                Y|\n",
            "|R3IMF2MQ3OU9ZM|          4|            0|          0|   N|                Y|\n",
            "|R23H79DHOZTYAU|          1|            1|          1|   N|                Y|\n",
            "| RIV24EQAIXA4O|          5|            0|          0|   N|                Y|\n",
            "|R3UCNGYDVN24YB|          5|            0|          0|   N|                Y|\n",
            "| RUL4H4XTTN2DY|          5|            0|          0|   N|                Y|\n",
            "|R20JF7Z4DHTNX5|          5|            0|          0|   N|                Y|\n",
            "|R2T1AJ5MFI2260|          4|            0|          0|   N|                Y|\n",
            "+--------------+-----------+-------------+-----------+----+-----------------+\n",
            "only showing top 20 rows\n",
            "\n"
          ]
        }
      ]
    },
    {
      "cell_type": "code",
      "source": [
        "# 1 - Filter the data and create a new DataFrame or table to retrieve all the rows where the total_votes count is equal to or greater than 20.\n",
        "vine_vote20_df = vine_df.filter(\"total_votes>=20\")\n",
        "vine_vote20_df.show()"
      ],
      "metadata": {
        "colab": {
          "base_uri": "https://localhost:8080/"
        },
        "id": "7SSMQ6T1FeeT",
        "outputId": "f7aa9539-e449-4eeb-9ba6-70f8e2cfde14"
      },
      "execution_count": 8,
      "outputs": [
        {
          "output_type": "stream",
          "name": "stdout",
          "text": [
            "+--------------+-----------+-------------+-----------+----+-----------------+\n",
            "|     review_id|star_rating|helpful_votes|total_votes|vine|verified_purchase|\n",
            "+--------------+-----------+-------------+-----------+----+-----------------+\n",
            "| R4PKAZRQJJX14|          1|           21|         34|   N|                N|\n",
            "|R2CI0Y288CC7E2|          1|           21|         35|   N|                Y|\n",
            "|R127WEQY2FM1T3|          1|          147|        175|   N|                Y|\n",
            "|R3EZ0EPYLDA34S|          1|           14|         31|   N|                Y|\n",
            "|R2FJ94555FZH32|          2|           55|         60|   N|                N|\n",
            "|R1U3AR67RE273L|          1|           51|         65|   N|                Y|\n",
            "|R3PZOXA5X1U8KW|          4|           31|         36|   N|                N|\n",
            "| R6KTC1OPIOIIG|          2|           19|         34|   N|                Y|\n",
            "|R36O341WWXXKNP|          5|           28|         31|   N|                N|\n",
            "|R3GSK9MM8DNOYI|          1|            4|         32|   N|                N|\n",
            "|R10LZVBLQHBVJ0|          2|          151|        198|   N|                N|\n",
            "|R1VR5GLGY1GE7N|          1|           49|         51|   N|                Y|\n",
            "|R3GUUC6NT4QMCL|          1|            5|         36|   N|                N|\n",
            "|R1ZSD020RT18I5|          1|            7|        139|   N|                N|\n",
            "|R113X48B575ASY|          1|           15|         45|   N|                N|\n",
            "| RJLYLGRYH7SFQ|          1|           34|        116|   N|                N|\n",
            "|R2OWDAR0EDEPTF|          1|           23|         28|   N|                N|\n",
            "|R3CICXKAHN6NUD|          1|            0|         23|   N|                Y|\n",
            "|R29BOS5HMAY1LO|          5|           88|        110|   N|                N|\n",
            "| R8WD0136CETA7|          2|           99|        119|   N|                N|\n",
            "+--------------+-----------+-------------+-----------+----+-----------------+\n",
            "only showing top 20 rows\n",
            "\n"
          ]
        }
      ]
    },
    {
      "cell_type": "code",
      "source": [
        "# Confirm data types\n",
        "vine_vote20_df.dtypes"
      ],
      "metadata": {
        "colab": {
          "base_uri": "https://localhost:8080/"
        },
        "id": "vEHLdEQDFi6a",
        "outputId": "f524ef36-6b6f-4e18-da99-af78efd29e0e"
      },
      "execution_count": 9,
      "outputs": [
        {
          "output_type": "execute_result",
          "data": {
            "text/plain": [
              "[('review_id', 'string'),\n",
              " ('star_rating', 'int'),\n",
              " ('helpful_votes', 'int'),\n",
              " ('total_votes', 'int'),\n",
              " ('vine', 'string'),\n",
              " ('verified_purchase', 'string')]"
            ]
          },
          "metadata": {},
          "execution_count": 9
        }
      ]
    },
    {
      "cell_type": "code",
      "source": [
        "# 2A - Create a new DataFrame or table to retrieve all the rows where the number of helpful_votes divided by total_votes\n",
        "import pyspark.sql.functions as F\n",
        "vine_vote_perc_df = vine_vote20_df.withColumn(\"Helpful_Percentage\", (F.col(\"helpful_votes\") / F.col(\"total_votes\")*100))\n",
        "vine_vote_perc_df.show()"
      ],
      "metadata": {
        "colab": {
          "base_uri": "https://localhost:8080/"
        },
        "id": "MHQl-uhwFmYh",
        "outputId": "d7ed5cad-06b1-43a5-df90-d49db6a3b432"
      },
      "execution_count": 10,
      "outputs": [
        {
          "output_type": "stream",
          "name": "stdout",
          "text": [
            "+--------------+-----------+-------------+-----------+----+-----------------+------------------+\n",
            "|     review_id|star_rating|helpful_votes|total_votes|vine|verified_purchase|Helpful_Percentage|\n",
            "+--------------+-----------+-------------+-----------+----+-----------------+------------------+\n",
            "| R4PKAZRQJJX14|          1|           21|         34|   N|                N| 61.76470588235294|\n",
            "|R2CI0Y288CC7E2|          1|           21|         35|   N|                Y|              60.0|\n",
            "|R127WEQY2FM1T3|          1|          147|        175|   N|                Y|              84.0|\n",
            "|R3EZ0EPYLDA34S|          1|           14|         31|   N|                Y| 45.16129032258064|\n",
            "|R2FJ94555FZH32|          2|           55|         60|   N|                N| 91.66666666666666|\n",
            "|R1U3AR67RE273L|          1|           51|         65|   N|                Y| 78.46153846153847|\n",
            "|R3PZOXA5X1U8KW|          4|           31|         36|   N|                N| 86.11111111111111|\n",
            "| R6KTC1OPIOIIG|          2|           19|         34|   N|                Y| 55.88235294117647|\n",
            "|R36O341WWXXKNP|          5|           28|         31|   N|                N| 90.32258064516128|\n",
            "|R3GSK9MM8DNOYI|          1|            4|         32|   N|                N|              12.5|\n",
            "|R10LZVBLQHBVJ0|          2|          151|        198|   N|                N| 76.26262626262627|\n",
            "|R1VR5GLGY1GE7N|          1|           49|         51|   N|                Y| 96.07843137254902|\n",
            "|R3GUUC6NT4QMCL|          1|            5|         36|   N|                N| 13.88888888888889|\n",
            "|R1ZSD020RT18I5|          1|            7|        139|   N|                N|5.0359712230215825|\n",
            "|R113X48B575ASY|          1|           15|         45|   N|                N| 33.33333333333333|\n",
            "| RJLYLGRYH7SFQ|          1|           34|        116|   N|                N|29.310344827586203|\n",
            "|R2OWDAR0EDEPTF|          1|           23|         28|   N|                N| 82.14285714285714|\n",
            "|R3CICXKAHN6NUD|          1|            0|         23|   N|                Y|               0.0|\n",
            "|R29BOS5HMAY1LO|          5|           88|        110|   N|                N|              80.0|\n",
            "| R8WD0136CETA7|          2|           99|        119|   N|                N| 83.19327731092437|\n",
            "+--------------+-----------+-------------+-----------+----+-----------------+------------------+\n",
            "only showing top 20 rows\n",
            "\n"
          ]
        }
      ]
    },
    {
      "cell_type": "code",
      "source": [
        "# 2B - Retrieve all the rows where the number of helpful_votes divided by total_votes is equal to or greater than 50%.\n",
        "vine_vote_perc_updated_df = vine_vote_perc_df.filter(\"Helpful_Percentage>=50.0\")\n",
        "vine_vote_perc_updated_df.show()"
      ],
      "metadata": {
        "colab": {
          "base_uri": "https://localhost:8080/"
        },
        "id": "y9ubS1mVFstx",
        "outputId": "a591fc8e-7e89-4228-8ad5-164f16bb84b6"
      },
      "execution_count": 11,
      "outputs": [
        {
          "output_type": "stream",
          "name": "stdout",
          "text": [
            "+--------------+-----------+-------------+-----------+----+-----------------+------------------+\n",
            "|     review_id|star_rating|helpful_votes|total_votes|vine|verified_purchase|Helpful_Percentage|\n",
            "+--------------+-----------+-------------+-----------+----+-----------------+------------------+\n",
            "| R4PKAZRQJJX14|          1|           21|         34|   N|                N| 61.76470588235294|\n",
            "|R2CI0Y288CC7E2|          1|           21|         35|   N|                Y|              60.0|\n",
            "|R127WEQY2FM1T3|          1|          147|        175|   N|                Y|              84.0|\n",
            "|R2FJ94555FZH32|          2|           55|         60|   N|                N| 91.66666666666666|\n",
            "|R1U3AR67RE273L|          1|           51|         65|   N|                Y| 78.46153846153847|\n",
            "|R3PZOXA5X1U8KW|          4|           31|         36|   N|                N| 86.11111111111111|\n",
            "| R6KTC1OPIOIIG|          2|           19|         34|   N|                Y| 55.88235294117647|\n",
            "|R36O341WWXXKNP|          5|           28|         31|   N|                N| 90.32258064516128|\n",
            "|R10LZVBLQHBVJ0|          2|          151|        198|   N|                N| 76.26262626262627|\n",
            "|R1VR5GLGY1GE7N|          1|           49|         51|   N|                Y| 96.07843137254902|\n",
            "|R2OWDAR0EDEPTF|          1|           23|         28|   N|                N| 82.14285714285714|\n",
            "|R29BOS5HMAY1LO|          5|           88|        110|   N|                N|              80.0|\n",
            "| R8WD0136CETA7|          2|           99|        119|   N|                N| 83.19327731092437|\n",
            "|R16621F16PQN5A|          3|           24|         31|   N|                Y| 77.41935483870968|\n",
            "|R1LXBPG1M9DDOC|          1|          102|        106|   N|                N| 96.22641509433963|\n",
            "| RNEMGSUKJ4535|          2|           21|         25|   N|                Y|              84.0|\n",
            "|R3R2UKBFKP1IQ4|          1|           19|         23|   N|                Y|  82.6086956521739|\n",
            "|R2T90XM5G2DBZA|          3|           15|         22|   N|                Y| 68.18181818181817|\n",
            "| R5ZMK0Y0KRBRZ|          1|           79|         91|   N|                N| 86.81318681318682|\n",
            "|R12E2W0XOV3I2S|          1|           24|         30|   N|                Y|              80.0|\n",
            "+--------------+-----------+-------------+-----------+----+-----------------+------------------+\n",
            "only showing top 20 rows\n",
            "\n"
          ]
        }
      ]
    },
    {
      "cell_type": "code",
      "source": [
        "# 3 - Filter the DataFrame or table created in Step 2, and create a new DataFrame or table that retrieves all the rows where a review was written as part of the Vine program (paid), vine == 'Y'.\n",
        "vine_reviews_y_df = vine_vote_perc_updated_df.filter(vine_vote_perc_updated_df.vine == 'Y')\n",
        "vine_reviews_y_df.show()"
      ],
      "metadata": {
        "colab": {
          "base_uri": "https://localhost:8080/"
        },
        "id": "bzcmvm6SF1uc",
        "outputId": "8a37694d-3182-4996-a36c-f6104c360fd6"
      },
      "execution_count": 12,
      "outputs": [
        {
          "output_type": "stream",
          "name": "stdout",
          "text": [
            "+--------------+-----------+-------------+-----------+----+-----------------+------------------+\n",
            "|     review_id|star_rating|helpful_votes|total_votes|vine|verified_purchase|Helpful_Percentage|\n",
            "+--------------+-----------+-------------+-----------+----+-----------------+------------------+\n",
            "|R3KKUSGFZWSUIY|          5|           56|         63|   Y|                N| 88.88888888888889|\n",
            "|R10FO5UKKVZBK2|          3|           23|         23|   Y|                N|             100.0|\n",
            "| RM4KSGEOR7MU1|          5|           19|         24|   Y|                N| 79.16666666666666|\n",
            "|R286MFBAJ8NPD6|          5|           46|         51|   Y|                N| 90.19607843137256|\n",
            "| RG7VRMYLEXD23|          4|           22|         26|   Y|                N| 84.61538461538461|\n",
            "|R11O4YSCPSNL6L|          3|           20|         26|   Y|                N| 76.92307692307693|\n",
            "|R3N4QAXTQCA1ED|          5|           18|         20|   Y|                N|              90.0|\n",
            "|R1JRR530H4COA2|          5|           22|         28|   Y|                N| 78.57142857142857|\n",
            "| RQ5WD90PUNBU9|          5|           21|         24|   Y|                N|              87.5|\n",
            "|R12648VHCQWUV9|          4|           21|         28|   Y|                N|              75.0|\n",
            "|R3KAW29CJ8L6DQ|          5|           17|         20|   Y|                N|              85.0|\n",
            "|R1OWK33OPI45KT|          5|           55|         58|   Y|                N| 94.82758620689656|\n",
            "|R2UP7VTED8O425|          5|           35|         41|   Y|                N| 85.36585365853658|\n",
            "|R3EPHK0JGQGE91|          5|           21|         28|   Y|                N|              75.0|\n",
            "| RCP3KRO47S0GG|          4|           51|         58|   Y|                N| 87.93103448275862|\n",
            "|R3JT907UUA1WUI|          4|           85|        103|   Y|                N| 82.52427184466019|\n",
            "| RY0555ILXIYXW|          5|           38|         50|   Y|                N|              76.0|\n",
            "| R4LQC6M9AVXAY|          5|           69|         75|   Y|                N|              92.0|\n",
            "|R24PS9N276OXF4|          5|          241|        262|   Y|                N| 91.98473282442748|\n",
            "|R3R0F8ETAGTIOT|          5|           14|         20|   Y|                N|              70.0|\n",
            "+--------------+-----------+-------------+-----------+----+-----------------+------------------+\n",
            "only showing top 20 rows\n",
            "\n"
          ]
        }
      ]
    },
    {
      "cell_type": "code",
      "source": [
        "# 4 - Repeat Step 3, but this time retrieve all the rows where the review was not part of the Vine program (unpaid), vine == 'N'.\n",
        "vine_reviews_n_df = vine_vote_perc_updated_df.filter(vine_vote_perc_updated_df.vine == 'N')\n",
        "vine_reviews_n_df.show()"
      ],
      "metadata": {
        "colab": {
          "base_uri": "https://localhost:8080/"
        },
        "id": "On1OijqvF5Zv",
        "outputId": "5776418a-bb30-478c-f31d-38d50ec254f7"
      },
      "execution_count": 13,
      "outputs": [
        {
          "output_type": "stream",
          "name": "stdout",
          "text": [
            "+--------------+-----------+-------------+-----------+----+-----------------+------------------+\n",
            "|     review_id|star_rating|helpful_votes|total_votes|vine|verified_purchase|Helpful_Percentage|\n",
            "+--------------+-----------+-------------+-----------+----+-----------------+------------------+\n",
            "| R4PKAZRQJJX14|          1|           21|         34|   N|                N| 61.76470588235294|\n",
            "|R2CI0Y288CC7E2|          1|           21|         35|   N|                Y|              60.0|\n",
            "|R127WEQY2FM1T3|          1|          147|        175|   N|                Y|              84.0|\n",
            "|R2FJ94555FZH32|          2|           55|         60|   N|                N| 91.66666666666666|\n",
            "|R1U3AR67RE273L|          1|           51|         65|   N|                Y| 78.46153846153847|\n",
            "|R3PZOXA5X1U8KW|          4|           31|         36|   N|                N| 86.11111111111111|\n",
            "| R6KTC1OPIOIIG|          2|           19|         34|   N|                Y| 55.88235294117647|\n",
            "|R36O341WWXXKNP|          5|           28|         31|   N|                N| 90.32258064516128|\n",
            "|R10LZVBLQHBVJ0|          2|          151|        198|   N|                N| 76.26262626262627|\n",
            "|R1VR5GLGY1GE7N|          1|           49|         51|   N|                Y| 96.07843137254902|\n",
            "|R2OWDAR0EDEPTF|          1|           23|         28|   N|                N| 82.14285714285714|\n",
            "|R29BOS5HMAY1LO|          5|           88|        110|   N|                N|              80.0|\n",
            "| R8WD0136CETA7|          2|           99|        119|   N|                N| 83.19327731092437|\n",
            "|R16621F16PQN5A|          3|           24|         31|   N|                Y| 77.41935483870968|\n",
            "|R1LXBPG1M9DDOC|          1|          102|        106|   N|                N| 96.22641509433963|\n",
            "| RNEMGSUKJ4535|          2|           21|         25|   N|                Y|              84.0|\n",
            "|R3R2UKBFKP1IQ4|          1|           19|         23|   N|                Y|  82.6086956521739|\n",
            "|R2T90XM5G2DBZA|          3|           15|         22|   N|                Y| 68.18181818181817|\n",
            "| R5ZMK0Y0KRBRZ|          1|           79|         91|   N|                N| 86.81318681318682|\n",
            "|R12E2W0XOV3I2S|          1|           24|         30|   N|                Y|              80.0|\n",
            "+--------------+-----------+-------------+-----------+----+-----------------+------------------+\n",
            "only showing top 20 rows\n",
            "\n"
          ]
        }
      ]
    },
    {
      "cell_type": "code",
      "source": [
        "# 5A - Determine the total number of reviews for the two types of review (paid vs unpaid).\n",
        "#print(\"Total Paid Reviews & Column Count: \", (vine_reviews_y_df.count(), len(vine_reviews_y_df.columns)))\n",
        "#print(\"Total Non-Paid Reviews & Column Count: \", (vine_reviews_n_df.count(), len(vine_reviews_n_df.columns)))\n",
        "total_paid_reviews = vine_reviews_y_df.count()\n",
        "print(\"Total Paid Reviews: \",total_paid_reviews)\n",
        "total_non_paid_reviews = vine_reviews_n_df.count()\n",
        "print(\"Total Non-Paid Reviews: \",total_non_paid_reviews)"
      ],
      "metadata": {
        "colab": {
          "base_uri": "https://localhost:8080/"
        },
        "id": "Ui3_M5xsGASA",
        "outputId": "1b162fb5-1afe-4b3b-a10d-44640daa123c"
      },
      "execution_count": 14,
      "outputs": [
        {
          "output_type": "stream",
          "name": "stdout",
          "text": [
            "Total Paid Reviews:  94\n",
            "Total Non-Paid Reviews:  40471\n"
          ]
        }
      ]
    },
    {
      "cell_type": "code",
      "source": [
        "# 5B - Determine the number of 5-star reviews for the two types of review (paid vs unpaid).\n",
        "five_star_paid_reviews = vine_reviews_y_df.filter(vine_reviews_n_df.star_rating == 5).count()\n",
        "print(\"Number of Paid 5-Star Reviews: \", vine_reviews_y_df.filter(vine_reviews_n_df.star_rating == 5).count())\n",
        "#print(five_star_paid_reviews)\n",
        "five_star_non_paid_reviews = vine_reviews_n_df.filter(vine_reviews_n_df.star_rating == 5).count()\n",
        "print(\"Number of Non Paid 5-Star Reviews: \", vine_reviews_n_df.filter(vine_reviews_n_df.star_rating == 5).count())\n",
        "#print(five_star_non_paid_reviews)"
      ],
      "metadata": {
        "colab": {
          "base_uri": "https://localhost:8080/"
        },
        "id": "tA-d03DrGOQg",
        "outputId": "b7df433d-ef86-4ee1-9c79-f81c2b88893e"
      },
      "execution_count": 16,
      "outputs": [
        {
          "output_type": "stream",
          "name": "stdout",
          "text": [
            "Number of Paid 5-Star Reviews:  48\n",
            "Number of Non Paid 5-Star Reviews:  15663\n"
          ]
        }
      ]
    },
    {
      "cell_type": "code",
      "source": [
        "# 5C - Determine the percentage of 5-star reviews for the two types of review (paid vs unpaid).\n",
        "paid_5_star_rate = ((five_star_paid_reviews / total_paid_reviews)*100)\n",
        "print(\"Paid 5 Star Rate: \",paid_5_star_rate)\n",
        "non_paid_5_star_rate = ((five_star_non_paid_reviews / total_non_paid_reviews)*100)\n",
        "print(\"Non Paid 5 Star Rate: \",non_paid_5_star_rate)"
      ],
      "metadata": {
        "colab": {
          "base_uri": "https://localhost:8080/"
        },
        "id": "zjTUUL-OGhTa",
        "outputId": "1d254ca8-12ba-4bee-afc0-305d92897df3"
      },
      "execution_count": 20,
      "outputs": [
        {
          "output_type": "stream",
          "name": "stdout",
          "text": [
            "Paid 5 Star Rate:  51.06382978723404\n",
            "Non Paid 5 Star Rate:  38.701786464381904\n"
          ]
        }
      ]
    },
    {
      "cell_type": "code",
      "source": [
        "results_df = spark.createDataFrame(\n",
        "    [\n",
        "     (\"Paid/Vine\", total_paid_reviews, five_star_paid_reviews, paid_5_star_rate),\n",
        "     (\"Unpaid/non-Vine\", total_non_paid_reviews, five_star_non_paid_reviews, non_paid_5_star_rate),\n",
        "    ],\n",
        "    [\"Review Type\", \"Total Reviews\", \"Total 5-Star Reviews\", \"5-Star Rate\"]\n",
        ")\n",
        "results_df.show()"
      ],
      "metadata": {
        "colab": {
          "base_uri": "https://localhost:8080/"
        },
        "id": "RSFYOq-aHCkA",
        "outputId": "701ccfa2-1d87-4599-def1-bf81077464c3"
      },
      "execution_count": 37,
      "outputs": [
        {
          "output_type": "stream",
          "name": "stdout",
          "text": [
            "+---------------+-------------+--------------------+------------------+\n",
            "|    Review Type|Total Reviews|Total 5-Star Reviews|       5-Star Rate|\n",
            "+---------------+-------------+--------------------+------------------+\n",
            "|      Paid/Vine|           94|                  48| 51.06382978723404|\n",
            "|Unpaid/non-Vine|        40471|               15663|38.701786464381904|\n",
            "+---------------+-------------+--------------------+------------------+\n",
            "\n"
          ]
        }
      ]
    },
    {
      "cell_type": "code",
      "source": [
        "results_df = results_df.withColumn('Total Reviews (#)', F.format_number('Total Reviews', 0))\n",
        "results_df = results_df.withColumn('Total 5-Star Reviews (#)', F.format_number('Total 5-Star Reviews', 0))\n",
        "results_df = results_df.withColumn('5-Star Rate (%)', F.format_number('5-Star Rate', 2))\n",
        "results_df = results_df.drop(\"Total Reviews\", \"Total 5-Star Reviews\", \"5-Star Rate\")\n",
        "results_df.show()"
      ],
      "metadata": {
        "colab": {
          "base_uri": "https://localhost:8080/"
        },
        "id": "-HF3BA71KsqV",
        "outputId": "8d3a184b-2579-4a85-e840-529ae9f3270f"
      },
      "execution_count": 38,
      "outputs": [
        {
          "output_type": "stream",
          "name": "stdout",
          "text": [
            "+---------------+-----------------+------------------------+---------------+\n",
            "|    Review Type|Total Reviews (#)|Total 5-Star Reviews (#)|5-Star Rate (%)|\n",
            "+---------------+-----------------+------------------------+---------------+\n",
            "|      Paid/Vine|               94|                      48|          51.06|\n",
            "|Unpaid/non-Vine|           40,471|                  15,663|          38.70|\n",
            "+---------------+-----------------+------------------------+---------------+\n",
            "\n"
          ]
        }
      ]
    }
  ]
}